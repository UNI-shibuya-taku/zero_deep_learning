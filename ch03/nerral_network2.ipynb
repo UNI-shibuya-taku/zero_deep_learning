{
 "cells": [
  {
   "cell_type": "code",
   "execution_count": 1,
   "metadata": {},
   "outputs": [],
   "source": [
    "import sys, os\n",
    "sys.path.append(os.pardir)  # 親ディレクトリのファイルをインポートするための設定\n",
    "import numpy as np\n",
    "import pickle\n",
    "from dataset.mnist import load_mnist\n",
    "from common.functions import sigmoid, softmax"
   ]
  },
  {
   "cell_type": "code",
   "execution_count": 2,
   "metadata": {},
   "outputs": [],
   "source": [
    "def img_show(img):\n",
    "    pil_img = Image.fromarray(np.uint8(img))\n",
    "    pil_img.show()"
   ]
  },
  {
   "cell_type": "code",
   "execution_count": 3,
   "metadata": {},
   "outputs": [],
   "source": [
    "def get_data():\n",
    "    (x_train, t_train), (x_test, t_test) = \\\n",
    "    load_mnist(flatten = True, normalize = True, one_hot_label = False)\n",
    "    return x_test, t_test\n",
    "\n",
    "def init_network():\n",
    "    with open(\"sample_weight.pkl\", 'rb') as f:\n",
    "        network = pickle.load(f)\n",
    "        \n",
    "    return network\n",
    "\n",
    "# 今回のneural networkは層少なめで行っている そのうち層の構造を厳密にして、一致率99%くらいを目指す\n",
    "# なので、この荒いneural networkで動かしてみよう\n",
    "def predict(network, x):\n",
    "    W1, W2, W3 = network['W1'], network['W2'], network['W3']\n",
    "    b1, b2, b3 = network['b1'], network['b2'], network['b3']\n",
    "\n",
    "    a1 = np.dot(x, W1) + b1\n",
    "    z1 = sigmoid(a1)\n",
    "    a2 = np.dot(z1, W2) + b2\n",
    "    z2 = sigmoid(a2)\n",
    "    a3 = np.dot(z2, W3) + b3\n",
    "    y = softmax(a3) # オーバーフローしないように安全に正規化\n",
    "\n",
    "    return y\n"
   ]
  },
  {
   "cell_type": "code",
   "execution_count": 14,
   "metadata": {},
   "outputs": [
    {
     "name": "stdout",
     "output_type": "stream",
     "text": [
      "9352\n",
      "Accuracy:0.9352\n",
      "len(x) 10000\n",
      "len(t) 10000\n",
      "len(y) 10\n",
      "(10000,)\n",
      "(10000, 784)\n",
      "答え [7 2 1 ... 4 5 6]\n"
     ]
    }
   ],
   "source": [
    "x, t = get_data() # t: 10000個の数字が羅列されている 答え x: 手書きの数字のデータ\n",
    "network = init_network()\n",
    "accuracy_cnt = 0 # うまく特定できた回数の記録\n",
    "for i in range(len(x)):\n",
    "    # y: 0~9それぞれの確率が格納\n",
    "    y = predict(network, x[i]) # i枚目の画像データをneural network にかける\n",
    "    p = np.argmax(y) # 最も確率の高い要素のインデックスを取得\n",
    "    if p == t[i]: # 答え合わせ\n",
    "        accuracy_cnt += 1\n",
    "\n",
    "print(accuracy_cnt) # 10000回中、9352回一致 \n",
    "print(\"Accuracy:\" + str(float(accuracy_cnt) / len(x)))\n",
    "print(\"len(x)\",len(x))\n",
    "print(\"len(t)\",len(t))\n",
    "print(\"len(y)\",len(y))\n",
    "print(t.shape)\n",
    "print(x.shape)\n",
    "print(\"答え\",t)"
   ]
  },
  {
   "cell_type": "code",
   "execution_count": 5,
   "metadata": {},
   "outputs": [
    {
     "name": "stdout",
     "output_type": "stream",
     "text": [
      "(10000, 784)\n",
      "(784, 50)\n",
      "(50, 100)\n",
      "(100, 10)\n"
     ]
    }
   ],
   "source": [
    "x , _ = get_data()\n",
    "network = init_network()\n",
    "W1, W2, W3 = network['W1'], network['W2'], network['W3']\n",
    "print(x.shape)\n",
    "print(W1.shape)\n",
    "print(W2.shape)\n",
    "print(W3.shape)\n",
    "# 重みと初期値の行列の次元が一致していることの確認e"
   ]
  },
  {
   "cell_type": "code",
   "execution_count": 6,
   "metadata": {},
   "outputs": [
    {
     "name": "stdout",
     "output_type": "stream",
     "text": [
      "Accuracy:0.9352\n"
     ]
    }
   ],
   "source": [
    "batch_size = 100\n",
    "accuracy_cnt = 0\n",
    "\n",
    "for i in range(0, len(x), batch_size):\n",
    "    x_batch = x[i:i + batch_size]\n",
    "    y_batch = predict(network, x_batch)\n",
    "    p = np.argmax(y_batch, axis = 1)\n",
    "    accuracy_cnt += np.sum(p == t[i:i + batch_size])\n",
    "print(\"Accuracy:\" + str(float(accuracy_cnt) / len(x)))\n"
   ]
  }
 ],
 "metadata": {
  "kernelspec": {
   "display_name": "Python 3",
   "language": "python",
   "name": "python3"
  },
  "language_info": {
   "codemirror_mode": {
    "name": "ipython",
    "version": 3
   },
   "file_extension": ".py",
   "mimetype": "text/x-python",
   "name": "python",
   "nbconvert_exporter": "python",
   "pygments_lexer": "ipython3",
   "version": "3.7.6"
  }
 },
 "nbformat": 4,
 "nbformat_minor": 4
}
