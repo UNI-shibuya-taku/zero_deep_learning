{
 "cells": [
  {
   "cell_type": "code",
   "execution_count": 6,
   "metadata": {},
   "outputs": [
    {
     "name": "stdout",
     "output_type": "stream",
     "text": [
      "train acc, test acc | 0.09751666666666667, 0.0974\n",
      "train acc, test acc | 0.7804166666666666, 0.7875\n",
      "train acc, test acc | 0.8781166666666667, 0.8818\n",
      "train acc, test acc | 0.8991333333333333, 0.9027\n",
      "train acc, test acc | 0.9064, 0.9109\n",
      "train acc, test acc | 0.9132333333333333, 0.9163\n",
      "train acc, test acc | 0.9197, 0.9212\n",
      "train acc, test acc | 0.9234666666666667, 0.9252\n",
      "train acc, test acc | 0.9271, 0.9268\n",
      "train acc, test acc | 0.9299666666666667, 0.9306\n",
      "train acc, test acc | 0.9328333333333333, 0.9344\n",
      "train acc, test acc | 0.9357666666666666, 0.9357\n",
      "train acc, test acc | 0.93735, 0.9375\n",
      "train acc, test acc | 0.9402333333333334, 0.938\n",
      "train acc, test acc | 0.94185, 0.9416\n",
      "train acc, test acc | 0.9437666666666666, 0.9426\n",
      "train acc, test acc | 0.94605, 0.944\n"
     ]
    }
   ],
   "source": [
    "# coding: utf-8\n",
    "import sys, os\n",
    "sys.path.append(os.pardir)  # 親ディレクトリのファイルをインポートするための設定\n",
    "import numpy as np\n",
    "import matplotlib.pyplot as plt\n",
    "from dataset.mnist import load_mnist\n",
    "from two_layer_net import TwoLayerNet\n",
    "\n",
    "# データの読み込み\n",
    "(x_train, t_train), (x_test, t_test) = load_mnist(normalize=True, one_hot_label=True)\n",
    "\n",
    "network = TwoLayerNet(input_size=784, hidden_size=50, output_size=10)\n",
    "#print(t_train.shape[0])\n",
    "iters_num = 10000  # 繰り返しの回数を適宜設定する\n",
    "train_size = x_train.shape[0] # 60000\n",
    "#print(train_size)\n",
    "batch_size = 100\n",
    "learning_rate = 0.1\n",
    "\n",
    "train_loss_list = []\n",
    "train_acc_list = []\n",
    "test_acc_list = []\n",
    "\n",
    "iter_per_epoch = max(train_size / batch_size, 1)\n",
    "\n",
    "for i in range(iters_num):\n",
    "    batch_mask = np.random.choice(train_size, batch_size) # 60000枚から100枚選択\n",
    "    x_batch = x_train[batch_mask] # 選択された番号の写真を格納\n",
    "    t_batch = t_train[batch_mask] # x_batchで選択されたものに対応する教師データを選択\n",
    " \n",
    "    # 勾配の計算\n",
    "    #grad = network.numerical_gradient(x_batch, t_batch)\n",
    "    grad = network.gradient(x_batch, t_batch)\n",
    "    #print(\"grad!!!!\",grad)\n",
    "    \n",
    "    # パラメータの更新\n",
    "    # 勾配の方向にちょっとずらす\n",
    "    # W1->b1->W2->b2 の順番にずらしていく\n",
    "    for key in ('W1', 'b1', 'W2', 'b2'):\n",
    "        network.params[key] -= learning_rate * grad[key]\n",
    "    \n",
    "     # ここの損失関数のneural netで学習率でアップデートした重みW1,W2やバイヤスb1,b2を使う  \n",
    "    # 損失関数で数値算出 neural netにかけて、出力からエントロピー誤差計算\n",
    "    loss = network.loss(x_batch, t_batch)\n",
    "    train_loss_list.append(loss)\n",
    "    \n",
    "    # 1エポックごとに認識精度を計算\n",
    "    if i % iter_per_epoch == 0:\n",
    "        train_acc = network.accuracy(x_train, t_train)\n",
    "        test_acc = network.accuracy(x_test, t_test)\n",
    "        train_acc_list.append(train_acc)\n",
    "        test_acc_list.append(test_acc)\n",
    "        print(\"train acc, test acc | \" + str(train_acc) + \", \" + str(test_acc))\n",
    "\n"
   ]
  },
  {
   "cell_type": "code",
   "execution_count": 3,
   "metadata": {},
   "outputs": [
    {
     "data": {
      "image/png": "[encoded data removed]",
      "text/plain": [
       "<Figure size 432x288 with 1 Axes>"
      ]
     },
     "metadata": {
      "needs_background": "light"
     },
     "output_type": "display_data"
    }
   ],
   "source": [
    "# グラフの描画\n",
    "markers = {'train': 'o', 'test': 's'}\n",
    "\n",
    "x = np.arange(len(train_acc_list))\n",
    "plt.plot(x, train_acc_list, label='train acc')\n",
    "plt.plot(x, test_acc_list, label='test acc', linestyle='--')\n",
    "plt.xlabel(\"epochs\")\n",
    "plt.ylabel(\"accuracy\")\n",
    "plt.ylim(0, 1.0)\n",
    "plt.legend(loc='lower right')\n",
    "plt.show()"
   ]
  }
 ],
 "metadata": {
  "kernelspec": {
   "display_name": "Python 3",
   "language": "python",
   "name": "python3"
  },
  "language_info": {
   "codemirror_mode": {
    "name": "ipython",
    "version": 3
   },
   "file_extension": ".py",
   "mimetype": "text/x-python",
   "name": "python",
   "nbconvert_exporter": "python",
   "pygments_lexer": "ipython3",
   "version": "3.7.6"
  }
 },
 "nbformat": 4,
 "nbformat_minor": 4
}
