{
 "cells": [
  {
   "cell_type": "code",
   "execution_count": 3,
   "metadata": {},
   "outputs": [],
   "source": [
    "import sys, os\n",
    "sys.path.append(os.pardir)\n",
    "import numpy as np\n",
    "from common.functions import *\n",
    "from common.gradient import numerical_gradient"
   ]
  },
  {
   "cell_type": "code",
   "execution_count": 5,
   "metadata": {},
   "outputs": [],
   "source": [
    "class TwoLayerNet:\n",
    "    def __init__(self, input_size, hidden_size, output_size, weight_init_std = 0.01):\n",
    "        self.params = {}\n",
    "        self.params['W1'] = weight_init_std * \\\n",
    "                                            np.random.randn(input_size, hidden_size)\n",
    "        self.params['b1'] = np.zeros(hidden_size)\n",
    "        \n",
    "        self.params['W2'] = weight_init_std * \\\n",
    "                                            np.random.randn(input_size, hidden_size)\n",
    "        self.params['b2'] = np.zeros(output_size)\n",
    "    \n",
    "    def predict(self, x):\n",
    "        W1, W2 = self.params['W1'], self.params['W2']\n",
    "        b1, b2 = self.params['b1'], self.params['b2']\n",
    "        \n",
    "        a1 = np.dot(x, W1) + b1\n",
    "        z1 = sigmoid(a1)\n",
    "        \n",
    "        a2 = np.dot(z1, W2) + b2\n",
    "        z2 = sigmoid(a2)\n",
    "        y = softmax(a2)\n",
    "        \n",
    "        def loss(self, x, t):\n",
    "            y = self.predict(x)\n",
    "            return cross_entropy_error(y, t)\n",
    "        \n",
    "        def accuracy(self, x, t):\n",
    "            y = self.predict(x)\n",
    "            y = np.argmax(y, axis = 1)\n",
    "            t = np.argmax(t, axis = 1)\n",
    "            accuracy = np.sum(y == t) / float(x.shape[0])\n",
    "            \n",
    "            return accuracy\n",
    "        \n",
    "        def numerical_gradient(self, x, t):\n",
    "            loss_w = lambda w: self.loss(x, t)\n",
    "            grads = {} # 勾配の保存先\n",
    "            \n",
    "            grads['W1'] = numerical_gradient(loss_w, self.params['W1'])\n",
    "            grads['b1'] = numerical_gradient(loss_w, self.params['b1'])            \n",
    "            grads['W2'] = numerical_gradient(loss_w, self.params['W2'])            \n",
    "            grads['b2'] = numerical_gradient(loss_w, self.params['b2'])\n",
    "            \n",
    "            return grads\n",
    "        \n",
    "        \n",
    "            "
   ]
  },
  {
   "cell_type": "code",
   "execution_count": null,
   "metadata": {},
   "outputs": [],
   "source": []
  },
  {
   "cell_type": "code",
   "execution_count": null,
   "metadata": {},
   "outputs": [],
   "source": []
  },
  {
   "cell_type": "code",
   "execution_count": null,
   "metadata": {},
   "outputs": [],
   "source": []
  }
 ],
 "metadata": {
  "kernelspec": {
   "display_name": "Python 3",
   "language": "python",
   "name": "python3"
  },
  "language_info": {
   "codemirror_mode": {
    "name": "ipython",
    "version": 3
   },
   "file_extension": ".py",
   "mimetype": "text/x-python",
   "name": "python",
   "nbconvert_exporter": "python",
   "pygments_lexer": "ipython3",
   "version": "3.7.6"
  }
 },
 "nbformat": 4,
 "nbformat_minor": 4
}
